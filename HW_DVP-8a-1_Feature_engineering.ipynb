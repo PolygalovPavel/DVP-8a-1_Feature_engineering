{
 "cells": [
  {
   "cell_type": "markdown",
   "metadata": {},
   "source": [
    "### Домашняя работа"
   ]
  },
  {
   "cell_type": "code",
   "execution_count": 1,
   "metadata": {},
   "outputs": [],
   "source": [
    "import numpy as np\n",
    "import pandas as pd\n",
    "\n",
    "from sklearn.linear_model import LinearRegression"
   ]
  },
  {
   "cell_type": "markdown",
   "metadata": {},
   "source": [
    "- Необходимо запустить практическую часть занятия, и посмотреть самому то, о чём говорили на лекции.\n",
    "- По образу практики, попробуйте создать искусственный датасет с лишними столбцами. "
   ]
  },
  {
   "cell_type": "markdown",
   "metadata": {},
   "source": [
    "Создаем датасет по предоставленным кредитам\n",
    "\n",
    "age_client - возраст клиента\n",
    "\n",
    "count_month_credit - количество месяцев рассрочки\n",
    "\n",
    "sum_month_credit - ежемесячный платеж\n",
    "\n",
    "Целевой показатель:\n",
    "\n",
    "sum_product - первоначальная стоимость продукта переданного в кредит"
   ]
  },
  {
   "cell_type": "code",
   "execution_count": 2,
   "metadata": {},
   "outputs": [
    {
     "data": {
      "text/html": [
       "<div>\n",
       "<style scoped>\n",
       "    .dataframe tbody tr th:only-of-type {\n",
       "        vertical-align: middle;\n",
       "    }\n",
       "\n",
       "    .dataframe tbody tr th {\n",
       "        vertical-align: top;\n",
       "    }\n",
       "\n",
       "    .dataframe thead th {\n",
       "        text-align: right;\n",
       "    }\n",
       "</style>\n",
       "<table border=\"1\" class=\"dataframe\">\n",
       "  <thead>\n",
       "    <tr style=\"text-align: right;\">\n",
       "      <th></th>\n",
       "      <th>age_client</th>\n",
       "      <th>count_month_credit</th>\n",
       "      <th>sum_month_credit</th>\n",
       "      <th>sum_product</th>\n",
       "    </tr>\n",
       "  </thead>\n",
       "  <tbody>\n",
       "    <tr>\n",
       "      <th>0</th>\n",
       "      <td>79</td>\n",
       "      <td>11</td>\n",
       "      <td>163</td>\n",
       "      <td>1224.05</td>\n",
       "    </tr>\n",
       "    <tr>\n",
       "      <th>1</th>\n",
       "      <td>95</td>\n",
       "      <td>10</td>\n",
       "      <td>437</td>\n",
       "      <td>3414.50</td>\n",
       "    </tr>\n",
       "    <tr>\n",
       "      <th>2</th>\n",
       "      <td>65</td>\n",
       "      <td>16</td>\n",
       "      <td>179</td>\n",
       "      <td>2134.40</td>\n",
       "    </tr>\n",
       "    <tr>\n",
       "      <th>3</th>\n",
       "      <td>80</td>\n",
       "      <td>17</td>\n",
       "      <td>381</td>\n",
       "      <td>5205.45</td>\n",
       "    </tr>\n",
       "    <tr>\n",
       "      <th>4</th>\n",
       "      <td>90</td>\n",
       "      <td>23</td>\n",
       "      <td>365</td>\n",
       "      <td>6835.75</td>\n",
       "    </tr>\n",
       "    <tr>\n",
       "      <th>...</th>\n",
       "      <td>...</td>\n",
       "      <td>...</td>\n",
       "      <td>...</td>\n",
       "      <td>...</td>\n",
       "    </tr>\n",
       "    <tr>\n",
       "      <th>995</th>\n",
       "      <td>56</td>\n",
       "      <td>10</td>\n",
       "      <td>437</td>\n",
       "      <td>3414.50</td>\n",
       "    </tr>\n",
       "    <tr>\n",
       "      <th>996</th>\n",
       "      <td>87</td>\n",
       "      <td>13</td>\n",
       "      <td>522</td>\n",
       "      <td>5468.10</td>\n",
       "    </tr>\n",
       "    <tr>\n",
       "      <th>997</th>\n",
       "      <td>41</td>\n",
       "      <td>13</td>\n",
       "      <td>108</td>\n",
       "      <td>893.40</td>\n",
       "    </tr>\n",
       "    <tr>\n",
       "      <th>998</th>\n",
       "      <td>59</td>\n",
       "      <td>23</td>\n",
       "      <td>361</td>\n",
       "      <td>6757.55</td>\n",
       "    </tr>\n",
       "    <tr>\n",
       "      <th>999</th>\n",
       "      <td>31</td>\n",
       "      <td>16</td>\n",
       "      <td>528</td>\n",
       "      <td>6880.80</td>\n",
       "    </tr>\n",
       "  </tbody>\n",
       "</table>\n",
       "<p>1000 rows × 4 columns</p>\n",
       "</div>"
      ],
      "text/plain": [
       "     age_client  count_month_credit  sum_month_credit  sum_product\n",
       "0            79                  11               163      1224.05\n",
       "1            95                  10               437      3414.50\n",
       "2            65                  16               179      2134.40\n",
       "3            80                  17               381      5205.45\n",
       "4            90                  23               365      6835.75\n",
       "..          ...                 ...               ...          ...\n",
       "995          56                  10               437      3414.50\n",
       "996          87                  13               522      5468.10\n",
       "997          41                  13               108       893.40\n",
       "998          59                  23               361      6757.55\n",
       "999          31                  16               528      6880.80\n",
       "\n",
       "[1000 rows x 4 columns]"
      ]
     },
     "execution_count": 2,
     "metadata": {},
     "output_type": "execute_result"
    }
   ],
   "source": [
    "n_samples = 1000\n",
    "\n",
    "age_client = np.random.choice(80, n_samples) + 18\n",
    "count_month_credit = np.random.choice(19, n_samples) + 6\n",
    "sum_month_credit = np.random.choice(500, n_samples) + 100\n",
    "\n",
    "sum_product = count_month_credit * sum_month_credit * 0.85 - 300\n",
    "\n",
    "data = pd.DataFrame({'age_client': age_client, 'count_month_credit': count_month_credit, 'sum_month_credit': sum_month_credit, 'sum_product': sum_product})\n",
    "data"
   ]
  },
  {
   "cell_type": "code",
   "execution_count": 3,
   "metadata": {},
   "outputs": [
    {
     "data": {
      "text/html": [
       "<div>\n",
       "<style scoped>\n",
       "    .dataframe tbody tr th:only-of-type {\n",
       "        vertical-align: middle;\n",
       "    }\n",
       "\n",
       "    .dataframe tbody tr th {\n",
       "        vertical-align: top;\n",
       "    }\n",
       "\n",
       "    .dataframe thead th {\n",
       "        text-align: right;\n",
       "    }\n",
       "</style>\n",
       "<table border=\"1\" class=\"dataframe\">\n",
       "  <thead>\n",
       "    <tr style=\"text-align: right;\">\n",
       "      <th></th>\n",
       "      <th>count</th>\n",
       "      <th>mean</th>\n",
       "      <th>std</th>\n",
       "      <th>min</th>\n",
       "      <th>25%</th>\n",
       "      <th>50%</th>\n",
       "      <th>75%</th>\n",
       "      <th>max</th>\n",
       "    </tr>\n",
       "  </thead>\n",
       "  <tbody>\n",
       "    <tr>\n",
       "      <th>age_client</th>\n",
       "      <td>1000.0</td>\n",
       "      <td>58.2500</td>\n",
       "      <td>23.139251</td>\n",
       "      <td>18.0</td>\n",
       "      <td>38.000</td>\n",
       "      <td>59.000</td>\n",
       "      <td>79.000</td>\n",
       "      <td>97.00</td>\n",
       "    </tr>\n",
       "    <tr>\n",
       "      <th>count_month_credit</th>\n",
       "      <td>1000.0</td>\n",
       "      <td>15.0040</td>\n",
       "      <td>5.304349</td>\n",
       "      <td>6.0</td>\n",
       "      <td>11.000</td>\n",
       "      <td>15.000</td>\n",
       "      <td>19.000</td>\n",
       "      <td>24.00</td>\n",
       "    </tr>\n",
       "    <tr>\n",
       "      <th>sum_month_credit</th>\n",
       "      <td>1000.0</td>\n",
       "      <td>347.8840</td>\n",
       "      <td>140.998124</td>\n",
       "      <td>100.0</td>\n",
       "      <td>227.000</td>\n",
       "      <td>348.500</td>\n",
       "      <td>462.000</td>\n",
       "      <td>599.00</td>\n",
       "    </tr>\n",
       "    <tr>\n",
       "      <th>sum_product</th>\n",
       "      <td>1000.0</td>\n",
       "      <td>4136.8929</td>\n",
       "      <td>2462.626672</td>\n",
       "      <td>250.8</td>\n",
       "      <td>2197.725</td>\n",
       "      <td>3577.275</td>\n",
       "      <td>5743.075</td>\n",
       "      <td>11332.25</td>\n",
       "    </tr>\n",
       "  </tbody>\n",
       "</table>\n",
       "</div>"
      ],
      "text/plain": [
       "                     count       mean          std    min       25%       50%  \\\n",
       "age_client          1000.0    58.2500    23.139251   18.0    38.000    59.000   \n",
       "count_month_credit  1000.0    15.0040     5.304349    6.0    11.000    15.000   \n",
       "sum_month_credit    1000.0   347.8840   140.998124  100.0   227.000   348.500   \n",
       "sum_product         1000.0  4136.8929  2462.626672  250.8  2197.725  3577.275   \n",
       "\n",
       "                         75%       max  \n",
       "age_client            79.000     97.00  \n",
       "count_month_credit    19.000     24.00  \n",
       "sum_month_credit     462.000    599.00  \n",
       "sum_product         5743.075  11332.25  "
      ]
     },
     "execution_count": 3,
     "metadata": {},
     "output_type": "execute_result"
    }
   ],
   "source": [
    "data.describe().transpose()"
   ]
  },
  {
   "cell_type": "markdown",
   "metadata": {},
   "source": [
    "- Целевую метку, при правильной обработке данных, формируйте таким образом, чтобы без затруднений её смогла описать линейная модель. "
   ]
  },
  {
   "cell_type": "markdown",
   "metadata": {},
   "source": [
    "- Ориентируйтесь на то, что было показано во время занятия, и каждый шаг описывайте в markdown. Здесь важно видеть ваш ход мысли. "
   ]
  },
  {
   "cell_type": "markdown",
   "metadata": {},
   "source": [
    "- Не бойтесь ошибиться или написать не то. Данное задание не имеет какого-то \"правильного\" решения. Цель - достичь базового понимания проблемы. "
   ]
  },
  {
   "cell_type": "markdown",
   "metadata": {},
   "source": [
    "- Чем больше вы фантазируете, тем лучше :) Тем не менее, старайтесь представить те ситуации, которые по-вашему мнению могли бы быть в реальных данных. Успеха!"
   ]
  },
  {
   "cell_type": "code",
   "execution_count": 4,
   "metadata": {},
   "outputs": [
    {
     "name": "stdout",
     "output_type": "stream",
     "text": [
      "Weights: [2.97618874e-02 2.92416514e+02 1.27841667e+01]\n",
      "Bias: -4699.665144954923\n",
      "Error: 466.0220756939335\n"
     ]
    }
   ],
   "source": [
    "from sklearn.metrics import mean_absolute_error\n",
    "\n",
    "X = data[['age_client', 'count_month_credit', 'sum_month_credit']]\n",
    "y = data['sum_product']\n",
    "# линейная регрессия. fit обучение модели\n",
    "reg = LinearRegression().fit(X, y)\n",
    "print('Weights: {}'.format(reg.coef_))\n",
    "print('Bias: {}'.format(reg.intercept_))\n",
    "\n",
    "pred_values = reg.predict(data[['age_client', 'count_month_credit', 'sum_month_credit']])\n",
    "print('Error: {}'.format(mean_absolute_error(pred_values, y)))"
   ]
  },
  {
   "cell_type": "code",
   "execution_count": 5,
   "metadata": {},
   "outputs": [
    {
     "name": "stdout",
     "output_type": "stream",
     "text": [
      "Медиана:  3577.2749999999996\n",
      "Процент ошибки к медиане:  13.027292441703073 %\n"
     ]
    }
   ],
   "source": [
    "print('Медиана: ', y.median())\n",
    "print('Процент ошибки к медиане: ', mean_absolute_error(pred_values, y)/y.median()*100, '%')"
   ]
  },
  {
   "cell_type": "markdown",
   "metadata": {},
   "source": [
    "Вероятность ошибки 13% - это много. Возраст клиента хоть и не значительно, но влияет на расчет\n",
    "\n",
    "Уберем показатель возраста клиента"
   ]
  },
  {
   "cell_type": "code",
   "execution_count": 6,
   "metadata": {},
   "outputs": [
    {
     "name": "stdout",
     "output_type": "stream",
     "text": [
      "Weights: [292.41808717  12.78414908]\n",
      "Bias: -4697.948997516165\n",
      "Error: 466.0038176437533\n"
     ]
    }
   ],
   "source": [
    "X = data[['count_month_credit', 'sum_month_credit']]\n",
    "y = data['sum_product']\n",
    "reg = LinearRegression().fit(X, y)\n",
    "print('Weights: {}'.format(reg.coef_))\n",
    "print('Bias: {}'.format(reg.intercept_))\n",
    "\n",
    "pred_values = reg.predict(data[['count_month_credit', 'sum_month_credit']])\n",
    "print('Error: {}'.format(mean_absolute_error(pred_values, y)))"
   ]
  },
  {
   "cell_type": "code",
   "execution_count": 7,
   "metadata": {},
   "outputs": [
    {
     "name": "stdout",
     "output_type": "stream",
     "text": [
      "Медиана:  3577.2749999999996\n",
      "Процент ошибки к медиане:  13.026782051806284 %\n"
     ]
    }
   ],
   "source": [
    "print('Медиана: ', y.median())\n",
    "print('Процент ошибки к медиане: ', mean_absolute_error(pred_values, y)/y.median()*100, '%')"
   ]
  },
  {
   "cell_type": "markdown",
   "metadata": {},
   "source": [
    "Вероятность ошибки 13% - почти не изменилась.\n",
    "\n",
    "Так как целевой показатель состоит из произведения двух показателей и доп.действий, создадим единый параметр"
   ]
  },
  {
   "cell_type": "markdown",
   "metadata": {},
   "source": [
    "Создаем новые признаки \"Полная стоимость кредита\""
   ]
  },
  {
   "cell_type": "code",
   "execution_count": 8,
   "metadata": {},
   "outputs": [
    {
     "data": {
      "text/html": [
       "<div>\n",
       "<style scoped>\n",
       "    .dataframe tbody tr th:only-of-type {\n",
       "        vertical-align: middle;\n",
       "    }\n",
       "\n",
       "    .dataframe tbody tr th {\n",
       "        vertical-align: top;\n",
       "    }\n",
       "\n",
       "    .dataframe thead th {\n",
       "        text-align: right;\n",
       "    }\n",
       "</style>\n",
       "<table border=\"1\" class=\"dataframe\">\n",
       "  <thead>\n",
       "    <tr style=\"text-align: right;\">\n",
       "      <th></th>\n",
       "      <th>age_client</th>\n",
       "      <th>count_month_credit</th>\n",
       "      <th>sum_month_credit</th>\n",
       "      <th>sum_product</th>\n",
       "      <th>all_sum_credit</th>\n",
       "    </tr>\n",
       "  </thead>\n",
       "  <tbody>\n",
       "    <tr>\n",
       "      <th>0</th>\n",
       "      <td>79</td>\n",
       "      <td>11</td>\n",
       "      <td>163</td>\n",
       "      <td>1224.05</td>\n",
       "      <td>1793</td>\n",
       "    </tr>\n",
       "    <tr>\n",
       "      <th>1</th>\n",
       "      <td>95</td>\n",
       "      <td>10</td>\n",
       "      <td>437</td>\n",
       "      <td>3414.50</td>\n",
       "      <td>4370</td>\n",
       "    </tr>\n",
       "    <tr>\n",
       "      <th>2</th>\n",
       "      <td>65</td>\n",
       "      <td>16</td>\n",
       "      <td>179</td>\n",
       "      <td>2134.40</td>\n",
       "      <td>2864</td>\n",
       "    </tr>\n",
       "    <tr>\n",
       "      <th>3</th>\n",
       "      <td>80</td>\n",
       "      <td>17</td>\n",
       "      <td>381</td>\n",
       "      <td>5205.45</td>\n",
       "      <td>6477</td>\n",
       "    </tr>\n",
       "    <tr>\n",
       "      <th>4</th>\n",
       "      <td>90</td>\n",
       "      <td>23</td>\n",
       "      <td>365</td>\n",
       "      <td>6835.75</td>\n",
       "      <td>8395</td>\n",
       "    </tr>\n",
       "  </tbody>\n",
       "</table>\n",
       "</div>"
      ],
      "text/plain": [
       "   age_client  count_month_credit  sum_month_credit  sum_product  \\\n",
       "0          79                  11               163      1224.05   \n",
       "1          95                  10               437      3414.50   \n",
       "2          65                  16               179      2134.40   \n",
       "3          80                  17               381      5205.45   \n",
       "4          90                  23               365      6835.75   \n",
       "\n",
       "   all_sum_credit  \n",
       "0            1793  \n",
       "1            4370  \n",
       "2            2864  \n",
       "3            6477  \n",
       "4            8395  "
      ]
     },
     "execution_count": 8,
     "metadata": {},
     "output_type": "execute_result"
    }
   ],
   "source": [
    "# Создаем новый признак\n",
    "data['all_sum_credit'] = data['count_month_credit'] * data['sum_month_credit']\n",
    "data.head(5)"
   ]
  },
  {
   "cell_type": "code",
   "execution_count": 9,
   "metadata": {},
   "outputs": [
    {
     "name": "stdout",
     "output_type": "stream",
     "text": [
      "Weights: [0.85]\n",
      "Bias: -299.9999999999991\n",
      "Error: 9.240466170012951e-13\n"
     ]
    }
   ],
   "source": [
    "X = data[['all_sum_credit']]\n",
    "y = data['sum_product']\n",
    "reg = LinearRegression().fit(X, y)\n",
    "print('Weights: {}'.format(reg.coef_))\n",
    "print('Bias: {}'.format(reg.intercept_))\n",
    "\n",
    "pred_values = reg.predict(data[['all_sum_credit']])\n",
    "print('Error: {}'.format(mean_absolute_error(pred_values, y)))"
   ]
  },
  {
   "cell_type": "markdown",
   "metadata": {},
   "source": [
    "Теперь вероятность ошибки очень маленькая. Можно дальше анализировать"
   ]
  }
 ],
 "metadata": {
  "kernelspec": {
   "display_name": "Python 3",
   "language": "python",
   "name": "python3"
  },
  "language_info": {
   "codemirror_mode": {
    "name": "ipython",
    "version": 3
   },
   "file_extension": ".py",
   "mimetype": "text/x-python",
   "name": "python",
   "nbconvert_exporter": "python",
   "pygments_lexer": "ipython3",
   "version": "3.7.6"
  }
 },
 "nbformat": 4,
 "nbformat_minor": 2
}
